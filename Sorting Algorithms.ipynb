{
 "cells": [
  {
   "cell_type": "markdown",
   "metadata": {},
   "source": [
    "# IT45 : Take Home Exam 1"
   ]
  },
  {
   "cell_type": "markdown",
   "metadata": {},
   "source": [
    "## 2/ Sorting algorithms : IntroSort"
   ]
  },
  {
   "cell_type": "markdown",
   "metadata": {},
   "source": [
    "<p>For this part, i have to choose a sorting algorithm and explain it.\n",
    "<br/>I choose the introsort which is a kind of merge between a quicksort and the heap sort.<p>\n",
    "\n",
    "To run this algorithm, as a first step, we need to compute the max depth of the table A that we receive.\n",
    "<br/>The max depth is computed by : $$maxDepth = [\\log{(length(A))}]\\times2$$\n",
    "\n",
    "<p>The idea of this algorithm is to use the quicksort algorithm in the first time and for each step of the problem's division ( refer to divide and conquer strategy), we remove 1 from maxdepth. When maxDepth arrive to 0, we switch to the heap sort instead of quicksort.\n",
    "<br/>Therefore maxDepth represent maximum depth for recursion, This ensure that the worst-case time complexity is $\\mathcal{0}(n\\log{}n)$\n",
    "<br/> Indeed, the quicksort goes, most of the time, very fast but the worst case complexity is $\\mathcal{0}(n^{2})$ whereas the worst case complexity of the heapsort is $\\mathcal{0}(n\\log{}n)$<p>\n"
   ]
  },
  {
   "cell_type": "markdown",
   "metadata": {},
   "source": [
    "### QuickSort"
   ]
  },
  {
   "cell_type": "markdown",
   "metadata": {},
   "source": [
    "<p>QuickSort is one of the most famous and used of sorting algorithm. He is based on the devide and conquer stategy.\n",
    "<br/>We choose by chance a pivot from the table $T$ we receive and we place this pivot at the right place in the tableby placing all the upper element after and all the lower element before.\n",
    "<br/>After that we call recursively quicksort two times:<p>\n",
    "<ul>\n",
    "    <li>$quicksort(T[1,..,indexofpivot-1])$</li>\n",
    "    <li>$quicksort(T[1,..,indexofpivot+1])$</li>\n",
    "\n",
    "</ul>\n",
    "\n",
    "<p>It is obvious that after a certain number of iteration, all element of the table has been choosed as pivot and the table is sorted.<p>\n",
    "\n",
    "<p> The average complexity of this algorithm is: $T_{quicksort}(n:number\\ of\\ element)\t\\in{\\mathcal{0}(n\\log{}n)}$ but in the worst case, we have: $T_{quicksort}(n:number\\ of\\ element)\t\\in{\\mathcal{0}(n^{2})}$<p>"
   ]
  },
  {
   "cell_type": "code",
   "execution_count": 34,
   "metadata": {},
   "outputs": [
    {
     "name": "stdout",
     "output_type": "stream",
     "text": [
      "[1, 2, 3, 4, 4, 5, 7, 8, 41, 65, 402]\n"
     ]
    }
   ],
   "source": [
    "def quickSort(Table):\n",
    "    if not table:\n",
    "        return []\n",
    "    else:\n",
    "        pivot = table[-1] # We choose as pivot the first element, it is purely arbitrary\n",
    "        smallerTable = [x for x in Table if x < pivot] # Here , we use divide and conquer stategy, it amounts to split the table in two and place around the pivot\n",
    "        BiggerTable = [x for x in Table if x >= pivot]\n",
    "        return quickSort(smallerTable) + [pivot] + quickSort(biggerTable) # We place pivot in the right place and we rebuild the table\n",
    "\n"
   ]
  },
  {
   "cell_type": "markdown",
   "metadata": {},
   "source": [
    "### HeapSort"
   ]
  },
  {
   "cell_type": "markdown",
   "metadata": {},
   "source": [
    "<p>The idea behind this algorithm is to create a binary tree from the table $T$ we receive.\n",
    "<br/>The element of index $n$ has two children, the right child wich is the element of index $2n$ and the left child wich is the element of index $2n+1$. <br/>From this binary tree, we search to obtain a heap, namely a binary tree which respect the following properties:<p>\n",
    "<ul>\n",
    "    <li>the maximum difference of depth between two leaves is 1.</li>\n",
    "    <li>the leaves of maximum depth are \"heaped\" on the left\".</li>\n",
    "    <li>each node has a upper value of these two sons.</li>\n",
    "</ul>\n",
    "\n",
    "<p>For convenience, we stand for the binary tree by a table.\n",
    "<br/>The basic operation is called \"sifting\" which consists of taking a small tree (one node with two sons) and sorting this tree.\n",
    "<br/>We start the algorithm by sifting the root of each \"subtree\" from bottom to the top and from the left to the right.\n",
    "<br/>After this step, called inital sifting. We switch the last element of the \"table\" with the root and we restart the sifting from the bottom to the top and from the left to the right.\n",
    "<br/> We restart these two operations: switching and sifting until the table is sorted.\n",
    "\n",
    "<p> The complexity of this algorithm is: $T_{heapsort}(n:number\\ of\\ element)\t\\in{\\mathcal{0}(n\\log{}n)}$<p>"
   ]
  },
  {
   "cell_type": "code",
   "execution_count": 46,
   "metadata": {},
   "outputs": [
    {
     "name": "stdout",
     "output_type": "stream",
     "text": [
      "[1, 2, 3, 3, 4, 5, 15, 2845]\n"
     ]
    }
   ],
   "source": [
    "def sifting(tree, node, n):\n",
    "    k = node\n",
    "    j = 2 * k\n",
    "    while j <= n:\n",
    "        if j < n and tree[j] < tree[j+1]:\n",
    "            j += 1\n",
    "        if tree[k] < tree[j]:\n",
    "            tree[k],tree[j] = tree[j],tree[k]\n",
    "            k = j\n",
    "            j = 2*k\n",
    "        else:\n",
    "            j = n + 1\n",
    "    return\n",
    "\n",
    "\n",
    "def heapSort(tree):\n",
    "    for i in range(len(tree)//2-1,-1,-1):\n",
    "        sifting(tree, i, len(tree)-1)\n",
    "    for i in range(len(tree)-1,0,-1):\n",
    "        tree[i],tree[0] = tree[0],tree[i]\n",
    "        sifting(tree, 0, i-1)\n",
    "    return tree"
   ]
  },
  {
   "cell_type": "markdown",
   "metadata": {},
   "source": [
    "### Implementation IntroSort, MergeSort, SelectionSort and plot their times complexity curves"
   ]
  },
  {
   "cell_type": "code",
   "execution_count": 78,
   "metadata": {},
   "outputs": [
    {
     "data": {
      "image/png": "[encoded data removed]",
      "text/plain": [
       "<Figure size 432x288 with 1 Axes>"
      ]
     },
     "metadata": {
      "needs_background": "light"
     },
     "output_type": "display_data"
    }
   ],
   "source": [
    "import math\n",
    "import random\n",
    "import time\n",
    "import matplotlib.pyplot as plt\n",
    "\n",
    "#allow us to generate an unsorted array\n",
    "\n",
    "def createRandomUnSortedList(num, start = 1, end = 1000): \n",
    "    arr = [] \n",
    "    tmp = random.randint(start, end) \n",
    "\n",
    "    for x in range(num): \n",
    "\n",
    "        while tmp in arr: \n",
    "            tmp = random.randint(start, end) \n",
    "\n",
    "        arr.append(tmp) \n",
    "\n",
    "    return arr\n",
    "\n",
    "#IntroSort\n",
    "\n",
    "def partition(Table, firstIndex, lastIndex):\n",
    "    pivot = Table[firstIndex]\n",
    "    i = firstIndex -1\n",
    "    j = lastIndex\n",
    " \n",
    "    while True:\n",
    "        i = i + 1\n",
    "        while Table[i] < pivot:\n",
    "            i = i + 1\n",
    "        j = j - 1\n",
    "        while Table[j] > pivot:\n",
    "            j = j - 1\n",
    "        if i >= j:\n",
    "            return j\n",
    "        Table[i], Table[j] = Table[j], Table[i]\n",
    "\n",
    "\n",
    "def max_heapify(Table, index, firstIndex, lastIndex):\n",
    "    def left(i):\n",
    "        return 2*i + 1\n",
    "    def right(i):\n",
    "        return 2*i + 2\n",
    " \n",
    "    size = lastIndex - firstIndex\n",
    "    l = left(index)\n",
    "    r = right(index)\n",
    "    if (l < size and Table[firstIndex + l] > Table[firstIndex + index]):\n",
    "        largest = l\n",
    "    else:\n",
    "        largest = index\n",
    "    if (r < size and Table[firstIndex + r] > Table[firstIndex + largest]):\n",
    "        largest = r\n",
    "    if largest != index:\n",
    "        Table[firstIndex + largest],Table[firstIndex + index] = Table[firstIndex + index],Table[firstIndex + largest]\n",
    "        max_heapify(Table, largest, firstIndex, lastIndex)\n",
    "\n",
    "def build_max_heap(Table, firstIndex, LastIndex):\n",
    "    def parent(i):\n",
    "        return (i - 1)//2\n",
    "    length = LastIndex - firstIndex\n",
    "    index = parent(length - 1)\n",
    "    while index >= 0:\n",
    "        max_heapify(Table, index, firstIndex, LastIndex)\n",
    "        index = index - 1\n",
    "\n",
    "def heapsort(Table, firstIndex, lastIndex):\n",
    "    build_max_heap(Table, firstIndex, lastIndex)\n",
    "    for i in range(firstIndex - 1, lastIndex, -1):\n",
    "        Table[i], Table[firstIndex] = Table[firstIndex], Table[i]\n",
    "        max_heapify(Table, index=0, firstIndex=firstIndex, lastIndex=lastIndex)\n",
    "\n",
    "def introSort(Table,firstIndex, lastIndex, maxDepth): #this function sorts the table from firstIndex to lastIndex - 1 included\n",
    "    if lastIndex - firstIndex <= 1: # the function returns the result only if the table's length is greater than 1\n",
    "        return\n",
    "    elif maxDepth == 0: #we begin to use heapsort instead quicksort when maxdepth = 0\n",
    "        return heapSort(A, firstIndex, lastIndex)\n",
    "    else: # this part is the same that a quicksort\n",
    "        p = partition(Table, firstIndex, lastIndex) # allow us to choose a pivot (element of index firstIndex) and to place it at the right place\n",
    "        introSort(Table, firstIndex, p + 1, maxDepth -1) #recursive call\n",
    "        introSort(Table, p + 1, lastIndex, maxDepth - 1)\n",
    "\n",
    "def sort(Table): #allow to compute maxDepth\n",
    "    start_time = time.time()\n",
    "    maxDepth = math.log(len(Table)) * 2\n",
    "    introSort(Table,0, len(Table), maxDepth)\n",
    "    tableTimeIntroSort.append(time.time() - start_time)\n",
    "    \n",
    "#MergeSort\n",
    "\n",
    "def mergeSort(A):\n",
    "    start_time = time.time()\n",
    "    mergeSortHelper(A)\n",
    "    tableTimeMergeSort.append(time.time() - start_time)\n",
    "\n",
    "\n",
    "def mergeSortHelper(A): # we define two functions to avoid issues with the recursion and the array tableTimeMergeSort.\n",
    "\n",
    "    if len(A) > 1:\n",
    "        mid = len(A)//2\n",
    "        B = A[:mid]\n",
    "        C = A[mid:]\n",
    "        mergeSortHelper(B)\n",
    "        mergeSortHelper(C)\n",
    "        \n",
    "        #merge between two sorted array\n",
    "        \n",
    "        i = 0\n",
    "        j = 0\n",
    "        k = 0\n",
    "        while i < len(B) and j < len(C):\n",
    "            if B[i] < C[j]:\n",
    "                A[k] = B[i]\n",
    "                i = i+1\n",
    "            else:\n",
    "                A[k] = C[j]\n",
    "                j = j+1\n",
    "            k = k+1\n",
    "        \n",
    "        while i < len(B):\n",
    "            A[k] = B[i]\n",
    "            i = i+1\n",
    "            k = k+1\n",
    "        while j < len(C):\n",
    "            A[k] = C[j]\n",
    "            j = j+1\n",
    "            k = k+1\n",
    "\n",
    "#SelectionSort\n",
    "\n",
    "def selectionSort(X):\n",
    "    start_time = time.time()\n",
    "    for i in range(len(X)):\n",
    "        min = i\n",
    "        for j in range(i+1,len(X)):\n",
    "            if X[j] < X[min]:\n",
    "                min = j\n",
    "        if min != i:\n",
    "            temp = X[i]\n",
    "            X[i] = X[min]\n",
    "            X[min] = temp\n",
    "    tableTimeSelectionSort.append(time.time() - start_time)\n",
    "    return X\n",
    "\n",
    "tableNumberOfElement = [10,50,100,200,500,1000]\n",
    "tableTimeSelectionSort = []\n",
    "tableTimeMergeSort = []\n",
    "tableTimeIntroSort = []\n",
    "for i in range(len(tableNumberOfElement)):\n",
    "    T = createRandomUnSortedList(tableNumberOfElement[i])\n",
    "    selectionSort(T)\n",
    "    mergeSort(T)\n",
    "    sort(T)\n",
    "plt.plot(tableNumberOfElement, tableTimeSelectionSort, label = \"Selection Sort\")\n",
    "plt.plot(tableNumberOfElement, tableTimeMergeSort, label = \"Merge Sort\")\n",
    "plt.plot(tableNumberOfElement, tableTimeIntroSort, label = \"Intro Sort\")\n",
    "plt.legend()\n",
    "plt.xlabel(\"Number of elements in the array\")\n",
    "plt.ylabel(\"running time\")\n",
    "plt.title(\"Time complexity of Selection Sort, Merge Sort and Intro Sort as a function of the number of elements.\")\n",
    "plt.show()\n",
    "\n"
   ]
  },
  {
   "cell_type": "markdown",
   "metadata": {},
   "source": [
    "As we can see for our sample, MergeSort seems to be the most efficient follow by IntroSort and finally the Selection sort is the worst.It is a little weird because MergeSort and IntroSort are supposed to give almost the same result."
   ]
  },
  {
   "cell_type": "markdown",
   "metadata": {},
   "source": [
    "### Difference between IntroSort, MergeSort and SelectionSort"
   ]
  },
  {
   "cell_type": "markdown",
   "metadata": {},
   "source": [
    "<p>As said before, IntroSort is based on two sorting algorithms: QuickSort and HeapSort\n",
    "<br/>These two algorithms have a common point with the MergeSort algorithm. They use the divide and conquer stategy.\n",
    "<br/>MergeSort splits its array in half at each step and merge these sorted array after whereas Quicksort divides its array around the index of the pivot and has already sorted its pivot. So, there is a difference in the order.\n",
    "<br/>The time complexity between Introsort and Mergesort is also the same. ($\\mathcal{0}(n\\log{}n)$)\n",
    "<br/>On the other hand, there are nothing in common between IntroSort and SelectionSort. This two algorithms are based on different stategy. We can say that SelectionSort is an intuitive way to sort an array while IntroSort uses a more elaborate and non-intuitive way to sort an array.\n",
    "<br/>The time complexity of Selectionsort ($\\mathcal{0}(n^{2})$) is also much bigger than the Introsort ($\\mathcal{0}(n\\log{}n)$).<p>\n"
   ]
  }
 ],
 "metadata": {
  "kernelspec": {
   "display_name": "Python 3",
   "language": "python",
   "name": "python3"
  },
  "language_info": {
   "codemirror_mode": {
    "name": "ipython",
    "version": 3
   },
   "file_extension": ".py",
   "mimetype": "text/x-python",
   "name": "python",
   "nbconvert_exporter": "python",
   "pygments_lexer": "ipython3",
   "version": "3.8.5"
  }
 },
 "nbformat": 4,
 "nbformat_minor": 4
}
