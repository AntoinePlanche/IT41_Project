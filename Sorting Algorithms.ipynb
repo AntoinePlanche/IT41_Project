{
 "cells": [
  {
   "cell_type": "markdown",
   "metadata": {},
   "source": [
    "# IT45 : Take Home Exam 1"
   ]
  },
  {
   "cell_type": "markdown",
   "metadata": {},
   "source": [
    "## 2/ Sorting algorithms : IntroSort"
   ]
  },
  {
   "cell_type": "markdown",
   "metadata": {},
   "source": [
    "<p>For this part, i have to choose a sorting algorithm and explain it.\n",
    "<br/>I choose the introsort which is a kind of merge between a quicksort and the heap sort.<p>\n",
    "\n",
    "To run this algorithm, as a first step, we need to compute the max depth of the table A that we receive.\n",
    "<br/>The max depth is computed by : $$maxDepth = [\\log{(length(A))}]\\times2$$\n",
    "\n",
    "<p>The idea of this algorithm is to use the quicksort algorithm in the first time and for each step of the problem's division ( refer to divide and conquer strategy), we remove 1 from maxdepth. When maxDepth arrive to 0, we switch to the heap sort instead of quicksort.<p>"
   ]
  },
  {
   "cell_type": "markdown",
   "metadata": {},
   "source": [
    "### QuickSort"
   ]
  },
  {
   "cell_type": "markdown",
   "metadata": {},
   "source": [
    "<p>QuickSort is one of the most famous and used of sorting algorithm. He is based on the devide and conquer stategy.\n",
    "<br/>We choose by chance a pivot from the table $T$ we receive and we place this pivot at the right place in the tableby placing all the upper element after and all the lower element before.\n",
    "<br/>After that we call recursively quicksort two times:<p>\n",
    "<ul>\n",
    "    <li>$quicksort(T[1,..,indexofpivot-1])$</li>\n",
    "    <li>$quicksort(T[1,..,indexofpivot+1])$</li>\n",
    "\n",
    "</ul>\n",
    "\n",
    "<p>It is obvious that after a certain number of iteration, all element of the table has been choosed as pivot and the table is sorted.<p>\n",
    "\n",
    "<p> The complexity of this algorithm is: $T_{quicksort}(n:number\\ of\\ element)\t\\in{\\mathcal{0}(n\\log{}n)}$<p>"
   ]
  },
  {
   "cell_type": "code",
   "execution_count": null,
   "metadata": {},
   "outputs": [],
   "source": []
  },
  {
   "cell_type": "markdown",
   "metadata": {},
   "source": [
    "### HeapSort"
   ]
  },
  {
   "cell_type": "markdown",
   "metadata": {},
   "source": [
    "<p>The idea behind this algorithm is to create a binary tree from the table $T$ we receive.\n",
    "<br/>The element of index $n$ has two children, the right child wich is the element of index $2n$ and the left child wich is the element of index $2n+1$. <br/>From this binary tree, we search to obtain a heap, namely a binary tree which respect the following properties:<p>\n",
    "<ul>\n",
    "    <li>the maximum difference of depth between two leaves is 1.</li>\n",
    "    <li>the leaves of maximum depth are \"heaped\" on the left\".</li>\n",
    "    <li>each node has a upper value of these two sons.</li>\n",
    "</ul>\n",
    "\n",
    "<p>For convenience, we stand for the binary tree by a table.\n",
    "<br/>The basic operation is called \"sifting\" which consists of taking a small tree (one node with two sons) and sorting this tree.\n",
    "<br/>We start the algorithm by sifting the root of each \"subtree\" from bottom to the top and from the left to the right.\n",
    "<br/>After this step, called inital sifting. We switch the last element of the \"table\" with the root and we restart the sifting from the bottom to the top and from the left to the right.\n",
    "<br/> We restart these two operations: switching and sifting until the table is sorted.\n",
    "\n",
    "<p> The complexity of this algorithm is: $T_{heapsort}(n:number\\ of\\ element)\t\\in{\\mathcal{0}(n\\log{}n)}$<p>"
   ]
  },
  {
   "cell_type": "code",
   "execution_count": null,
   "metadata": {},
   "outputs": [],
   "source": []
  },
  {
   "cell_type": "markdown",
   "metadata": {},
   "source": [
    "### Difference between IntroSort, MergeSort and SelectionSort"
   ]
  },
  {
   "cell_type": "markdown",
   "metadata": {},
   "source": [
    "<p>As said before, IntroSort is based on two sorting algorithms: QuickSort and HeapSort\n",
    "<br/>These two algorithms have a common point with the MergeSort algorithm. They use the divide and conquer stategy.\n",
    "<br/>MergeSort divide this array in half at each step and merge sort array after whereas Quicksort divides its array around the index of the pivot and has already sorted its pivot. So, there is a difference in the order.\n",
    "<br/>On the other hand, there are nothing in common between IntroSort and SelectionSort. This two algorithms are based on different stategy. We can say that SelectionSort is an intuitive way to sort an array while IntroSort uses a more elaborate and non-intuitive way to sort an array.<p>"
   ]
  },
  {
   "cell_type": "code",
   "execution_count": null,
   "metadata": {},
   "outputs": [],
   "source": []
  }
 ],
 "metadata": {
  "kernelspec": {
   "display_name": "Python 3",
   "language": "python",
   "name": "python3"
  },
  "language_info": {
   "codemirror_mode": {
    "name": "ipython",
    "version": 3
   },
   "file_extension": ".py",
   "mimetype": "text/x-python",
   "name": "python",
   "nbconvert_exporter": "python",
   "pygments_lexer": "ipython3",
   "version": "3.8.5"
  }
 },
 "nbformat": 4,
 "nbformat_minor": 4
}
