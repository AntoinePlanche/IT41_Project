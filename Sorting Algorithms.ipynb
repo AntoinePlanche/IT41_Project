{
 "cells": [
  {
   "cell_type": "markdown",
   "metadata": {},
   "source": [
    "# IT45 : Take Home Exam 1"
   ]
  },
  {
   "cell_type": "markdown",
   "metadata": {},
   "source": [
    "## 2/ Sorting algorithms : IntroSort"
   ]
  },
  {
   "cell_type": "markdown",
   "metadata": {},
   "source": [
    "<p>For this part, i have to choose a sorting algorithm and explain it.\n",
    "<br/>I choose the introsort which is a kind of merge between a quicksort and the heap sort.<p>\n",
    "\n",
    "To run this algorithm, as a first step, we need to compute the max depth of the table A that we receive.\n",
    "<br/>The max depth is computed by : $$maxDepth = [\\log{(length(A))}]\\times2$$\n",
    "\n",
    "<p>The idea of this algorithm is to use the quicksort algorithm in the first time and for each step of the problem's division ( refer to divide and conquer strategy), we remove 1 from maxdepth. When maxDepth arrive to 0, we switch to the heap sort instead of quicksort.<p>"
   ]
  },
  {
   "cell_type": "markdown",
   "metadata": {},
   "source": [
    "### QuickSort"
   ]
  },
  {
   "cell_type": "markdown",
   "metadata": {},
   "source": [
    "<p>QuickSort is one of the most famous and used of sorting algorithm. He is based on the devide and conquer stategy.\n",
    "<br/>We choose by chance a pivot from the table $T$ we receive and we place this pivot at the right place in the tableby placing all the upper element after and all the lower element before.\n",
    "<br/>After that we call recursively quicksort two times:<p>\n",
    "<ul>\n",
    "    <li>$quicksort(T[1,..,indexofpivot-1])$</li>\n",
    "    <li>$quicksort(T[1,..,indexofpivot+1])$</li>\n",
    "\n",
    "</ul>\n",
    "\n",
    "<p>It is obvious that after a certain number of iteration, all element of the table has been choosed as pivot and the table is sorted.<p>\n",
    "\n",
    "<p> The complexity of this algorithm is: $T_{quicksort}(n:number\\ of\\ element)\t\\in{\\mathcal{0}(n\\log{}n)}$<p>"
   ]
  },
  {
   "cell_type": "code",
   "execution_count": 34,
   "metadata": {},
   "outputs": [
    {
     "name": "stdout",
     "output_type": "stream",
     "text": [
      "[1, 2, 3, 4, 4, 5, 7, 8, 41, 65, 402]\n"
     ]
    }
   ],
   "source": [
    "def quickSort(Table):\n",
    "    if not table:\n",
    "        return []\n",
    "    else:\n",
    "        pivot = table[-1] # We choose as pivot the first element, it is purely arbitrary\n",
    "        smallerTable = [x for x in Table if x < pivot] # Here , we use divide and conquer stategy, it amounts to split the table in two and place around the pivot\n",
    "        BiggerTable = [x for x in Table if x >= pivot]\n",
    "        return quickSort(smallerTable) + [pivot] + quickSort(biggerTable) # We place pivot in the right place and we rebuild the table\n",
    "\n"
   ]
  },
  {
   "cell_type": "markdown",
   "metadata": {},
   "source": [
    "### HeapSort"
   ]
  },
  {
   "cell_type": "markdown",
   "metadata": {},
   "source": [
    "<p>The idea behind this algorithm is to create a binary tree from the table $T$ we receive.\n",
    "<br/>The element of index $n$ has two children, the right child wich is the element of index $2n$ and the left child wich is the element of index $2n+1$. <br/>From this binary tree, we search to obtain a heap, namely a binary tree which respect the following properties:<p>\n",
    "<ul>\n",
    "    <li>the maximum difference of depth between two leaves is 1.</li>\n",
    "    <li>the leaves of maximum depth are \"heaped\" on the left\".</li>\n",
    "    <li>each node has a upper value of these two sons.</li>\n",
    "</ul>\n",
    "\n",
    "<p>For convenience, we stand for the binary tree by a table.\n",
    "<br/>The basic operation is called \"sifting\" which consists of taking a small tree (one node with two sons) and sorting this tree.\n",
    "<br/>We start the algorithm by sifting the root of each \"subtree\" from bottom to the top and from the left to the right.\n",
    "<br/>After this step, called inital sifting. We switch the last element of the \"table\" with the root and we restart the sifting from the bottom to the top and from the left to the right.\n",
    "<br/> We restart these two operations: switching and sifting until the table is sorted.\n",
    "\n",
    "<p> The complexity of this algorithm is: $T_{heapsort}(n:number\\ of\\ element)\t\\in{\\mathcal{0}(n\\log{}n)}$<p>"
   ]
  },
  {
   "cell_type": "code",
   "execution_count": 46,
   "metadata": {},
   "outputs": [
    {
     "name": "stdout",
     "output_type": "stream",
     "text": [
      "[1, 2, 3, 3, 4, 5, 15, 2845]\n"
     ]
    }
   ],
   "source": [
    "def sifting(tree, node, n):\n",
    "    k = node\n",
    "    j = 2 * k\n",
    "    while j <= n:\n",
    "        if j < n and tree[j] < tree[j+1]:\n",
    "            j += 1\n",
    "        if tree[k] < tree[j]:\n",
    "            tree[k],tree[j] = tree[j],tree[k]\n",
    "            k = j\n",
    "            j = 2*k\n",
    "        else:\n",
    "            j = n + 1\n",
    "    return\n",
    "\n",
    "\n",
    "\n",
    "\n",
    "\n",
    "def heapSort(tree):\n",
    "    for i in range(len(tree)//2-1,-1,-1):\n",
    "        sifting(tree, i, len(tree)-1)\n",
    "    for i in range(len(tree)-1,0,-1):\n",
    "        tree[i],tree[0] = tree[0],tree[i]\n",
    "        sifting(tree, 0, i-1)\n",
    "    return tree"
   ]
  },
  {
   "cell_type": "markdown",
   "metadata": {},
   "source": [
    "### Implementation IntroSort"
   ]
  },
  {
   "cell_type": "code",
   "execution_count": 58,
   "metadata": {},
   "outputs": [
    {
     "ename": "SyntaxError",
     "evalue": "invalid syntax (<ipython-input-58-58bc87bbda0e>, line 3)",
     "output_type": "error",
     "traceback": [
      "\u001b[1;36m  File \u001b[1;32m\"<ipython-input-58-58bc87bbda0e>\"\u001b[1;36m, line \u001b[1;32m3\u001b[0m\n\u001b[1;33m    def partition(Table, firstIndex, lastIndex)\u001b[0m\n\u001b[1;37m                                               ^\u001b[0m\n\u001b[1;31mSyntaxError\u001b[0m\u001b[1;31m:\u001b[0m invalid syntax\n"
     ]
    }
   ],
   "source": [
    "import math\n",
    "\n",
    "def partition(Table, firstIndex, lastIndex):\n",
    "    pivot = Table[firstIndex]\n",
    "    i = firstIndex -1\n",
    "    j = lastIndex\n",
    " \n",
    "    while True:\n",
    "        i = i + 1\n",
    "        while Table[i] < \n",
    "            i = i + 1\n",
    "        j = j - 1\n",
    "        while Table[j] > pivot:\n",
    "            j = j - 1\n",
    "        if i >= j:\n",
    "            return j\n",
    "        Table[i], Table[j] = Table[j], Table[i]\n",
    "\n",
    "def heapsort(Table, firstIndex, lastIndex):\n",
    "    build_max_heap(alist, start, end)\n",
    "    for i in range(end - 1, start, -1):\n",
    "        swap(alist, start, i)\n",
    "        max_heapify(alist, index=0, start=start, end=i)\n",
    " \n",
    "def build_max_heap(alist, start, end):\n",
    "    def parent(i):\n",
    "        return (i - 1)//2\n",
    "    length = end - start\n",
    "    index = parent(length - 1)\n",
    "    while index >= 0:\n",
    "        max_heapify(alist, index, start, end)\n",
    "        index = index - 1\n",
    " \n",
    "def max_heapify(alist, index, start, end):\n",
    "    def left(i):\n",
    "        return 2*i + 1\n",
    "    def right(i):\n",
    "        return 2*i + 2\n",
    " \n",
    "    size = end - start\n",
    "    l = left(index)\n",
    "    r = right(index)\n",
    "    if (l < size and alist[start + l] > alist[start + index]):\n",
    "        largest = l\n",
    "    else:\n",
    "        largest = index\n",
    "    if (r < size and alist[start + r] > alist[start + largest]):\n",
    "        largest = r\n",
    "    if largest != index:\n",
    "        swap(alist, start + largest, start + index)\n",
    "        max_heapify(alist, largest, start, end)\n",
    "\n",
    "def introSort(Table,firstIndex, lastIndex, maxDepth):\n",
    "    if end -start <= 1:\n",
    "        return\n",
    "    elif maxDepth == 0:\n",
    "        return heapSort(A, firstIndex, lastIndex)\n",
    "    else:\n",
    "        p = partition(Table, firstIndex, lastIndex)\n",
    "        introSort(Table, firstIndex, p + 1, maxDepth -1)\n",
    "        introSort(Table, P + 1, lastIndex, maxDepth - 1)\n",
    "\n",
    "def sort(Table):\n",
    "    maxDepth = math.log(len(Table)) * 2\n",
    "    introSort(Table,0, len(Table), maxDepth)\n",
    "\n",
    "    \n",
    "T = [1,89,1,81,8,188,1,58,48]\n",
    "sort(T)\n",
    "print(T)"
   ]
  },
  {
   "cell_type": "markdown",
   "metadata": {},
   "source": [
    "### Difference between IntroSort, MergeSort and SelectionSort"
   ]
  },
  {
   "cell_type": "markdown",
   "metadata": {},
   "source": [
    "<p>As said before, IntroSort is based on two sorting algorithms: QuickSort and HeapSort\n",
    "<br/>These two algorithms have a common point with the MergeSort algorithm. They use the divide and conquer stategy.\n",
    "<br/>MergeSort divide this array in half at each step and merge sort array after whereas Quicksort divides its array around the index of the pivot and has already sorted its pivot. So, there is a difference in the order.\n",
    "<br/>On the other hand, there are nothing in common between IntroSort and SelectionSort. This two algorithms are based on different stategy. We can say that SelectionSort is an intuitive way to sort an array while IntroSort uses a more elaborate and non-intuitive way to sort an array.<p>"
   ]
  }
 ],
 "metadata": {
  "kernelspec": {
   "display_name": "Python 3",
   "language": "python",
   "name": "python3"
  },
  "language_info": {
   "codemirror_mode": {
    "name": "ipython",
    "version": 3
   },
   "file_extension": ".py",
   "mimetype": "text/x-python",
   "name": "python",
   "nbconvert_exporter": "python",
   "pygments_lexer": "ipython3",
   "version": "3.8.5"
  }
 },
 "nbformat": 4,
 "nbformat_minor": 4
}
