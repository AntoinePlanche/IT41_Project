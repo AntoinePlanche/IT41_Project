{
 "cells": [
  {
   "cell_type": "markdown",
   "metadata": {},
   "source": [
    "# Take home Exam 2"
   ]
  },
  {
   "cell_type": "markdown",
   "metadata": {},
   "source": [
    "## Subject : Teleportation protocol"
   ]
  },
  {
   "cell_type": "markdown",
   "metadata": {},
   "source": [
    "### 1. Quantum entanglement"
   ]
  },
  {
   "cell_type": "markdown",
   "metadata": {},
   "source": [
    "Before seeing the quantum teleportation protocol, it is very important to understand the notion of entanglement.\n",
    "<br>Quantum entanglement is a state, a relationship between two or more particles.\n",
    "<br>To understand the nature of this relationship, we will look together at four examples of behavior following the same protocol.\n",
    "<br>Charlie prepares a pair of boxes. He sends a box to Alice and a box to Bob. Each box has two switches that make the contents of the box visible: either a plus or a minus,potentially depending on the switch used, all this being programmed by Charlie.\n",
    "<table style=\"background: white;\">\n",
    "    <tr style=\"background: white;\">\n",
    "        <td> <img src='img/situation initial.png'  width=\"800px\" />    \n",
    "    </tr>\n",
    "</table>\n",
    "<br>Alice will always open the box first by convention. In each of the four cases, the experiment will be repeated a large number of times to get satisfactory results.<br><br>\n",
    "First case:\n",
    "<br><br>Alice and Bob realize that no matter how they open the boxes, from their respective points of view, there is 50% more and 50% less.\n",
    "<br>They also notice that if they make global statistics, they obtain 25% for each of the four possible cases (+,-),(+,+),(-,+) and (--).\n",
    "<table style=\"background: white;\">\n",
    "    <tr style=\"background: white;\">\n",
    "        <td> <img src='img/resultatcase1.png'  width=\"800px\" />    \n",
    "    </tr>\n",
    "</table>\n",
    "<br>This case is therefore the case where there is no correlation between the contents of the boxes of the same pair, nor any relation between their contents and the switches.<br><br>\n",
    "Second case:\n",
    "<br><br>Alice and Bob always note independently that there seems to be 50% + and 50% -.\n",
    "<br>However, when they do the global statistics, they realize that there are 50% pairs (+,+) and 50% pairs (-,-) and that this does not depend on the switches used to open the boxes.\n",
    "<table style=\"background: white;\">\n",
    "    <tr style=\"background: white;\">\n",
    "        <td> <img src='img/resultatcase2.png'  width=\"800px\" />    \n",
    "    </tr>\n",
    "</table>\n",
    "<br>This time there is clearly a correlation between the contents of the boxes. We can imagine Charlie's protocol very well: He draws, at random, a plus or a minus and fills the two boxes identically.<br><br>\n",
    "Third case:\n",
    "<br><br>As always Alice and Bob find that their respective content seems independent of their choice of switch and they again notice independently that there seems to be 50% + and 50% -.\n",
    "<br>Nevertheless, on a global level, something strange is happening. Bob always seems to get + when Alice decides to open her box with the red switch and - when she opens her box with the green switch.\n",
    "<table style=\"background: white;\">\n",
    "    <tr style=\"background: white;\">\n",
    "        <td> <img src='img/resultatcase3.png'  width=\"800px\" />    \n",
    "    </tr>\n",
    "</table>\n",
    "<br>There is clearly a hidden device here to transfer information like a relay antenna from the contents of alice's box to bob's box. It is therefore a case of correlation but with information transfer. Indeed, Alice could use the statistical behavior of this third series to communicate a message to bob simply by pressing the button according to an agreed code (green = 1, blue =0) for example.\n",
    "<br>It is this transfer of information that cannot take place faster than light according to special relativity.<br><br>\n",
    "Fourth case:\n",
    "<br><br>As usual Alice and Bob find that their respective content seems independent of their choice of switch and they again notice independently that there seems to be 50% + and 50% -.\n",
    "<br>Nevertheless we will realize an even stranger behavior when we make the statistics by pair of boxes.\n",
    "<br>When alice and bob both press the red button, they always get the opposite result, (+,-) with a 50% probability and (+,-) with a 50% probability.\n",
    "<br>In all other cases, they find the same result with an equivalent probability, (+,+) with a 50% probability and (+,+) with a 50% probability.\n",
    "<table style=\"background: white;\">\n",
    "    <tr style=\"background: white;\">\n",
    "        <td> <img src='img/resultatcase4.png'  width=\"800px\" />    \n",
    "    </tr>\n",
    "</table>\n",
    "<br> There is a new kind of correlation here. In this case, what Alice does does not influence what Bob sees, who will always see 50% more and 50% less. It is therefore impossible here to use this correlation to send any information to Bob.\n",
    "<br>We can easily convince ourself that charlie has no way to program the pairs of boxes at their creation to allow such a statistic.\n",
    "<br>To sum up, we can distinguish 4 types of relations: total independence, correlation decided at creation, causal correlation which allows to transfer information (speed limited by relativity) and finally strange correlation in which the choices of Alice and Bob act on a statistic which concerns the whole system but not on a local statistic. So there is neither remote causality nor correlation programmed at the creation of the boxes.\n",
    "<br>It is this fourth case that is called quantum entanglement. We can form systems of several particles, where an action on a particle will INSTANTLY influence a global statistic but without this allowing to transfer any information.\n",
    "<br>Quantum entanglement, seen above, is at the heart of quantum teleportation."
   ]
  },
  {
   "cell_type": "markdown",
   "metadata": {},
   "source": [
    "### 2. The quantum teleportation protocol"
   ]
  },
  {
   "cell_type": "markdown",
   "metadata": {},
   "source": [
    "Now we will set up the circuit for quantum teleportation. We have to keep in mind that we teleport the state of a qubit to another qubit, it is not a teleportation of a physical object. "
   ]
  },
  {
   "cell_type": "code",
   "execution_count": 18,
   "metadata": {},
   "outputs": [
    {
     "data": {
      "image/png": "[encoded data removed]",
      "text/plain": [
       "<Figure size 808.997x264.88 with 1 Axes>"
      ]
     },
     "execution_count": 18,
     "metadata": {},
     "output_type": "execute_result"
    }
   ],
   "source": [
    "%matplotlib inline\n",
    "from qiskit import *\n",
    "from qiskit.tools.visualization import plot_histogram\n",
    "\n",
    "circuit = QuantumCircuit(3, 3)\n",
    "circuit.x(0)\n",
    "circuit.barrier()\n",
    "circuit.h(1)\n",
    "circuit.cx(1,2)\n",
    "circuit.cx(0,1)\n",
    "circuit.h(0)\n",
    "circuit.barrier()\n",
    "circuit.measure([0,1],[0,1])\n",
    "circuit.barrier()\n",
    "circuit.cx(1,2)\n",
    "circuit.cz(0,2)\n",
    "circuit.draw(output='mpl')\n",
    "\n"
   ]
  },
  {
   "cell_type": "code",
   "execution_count": 17,
   "metadata": {},
   "outputs": [
    {
     "data": {
      "image/png": "[encoded data removed]",
      "text/plain": [
       "<Figure size 504x360 with 1 Axes>"
      ]
     },
     "execution_count": 17,
     "metadata": {},
     "output_type": "execute_result"
    }
   ],
   "source": [
    "circuit.measure(2,2)\n",
    "simulator = Aer.get_backend('qasm_simulator')\n",
    "result = execute(circuit, backend = simulator, shot = 2048).result()\n",
    "counts = result.get_counts()\n",
    "plot_histogram(counts)"
   ]
  },
  {
   "cell_type": "code",
   "execution_count": null,
   "metadata": {},
   "outputs": [],
   "source": []
  }
 ],
 "metadata": {
  "kernelspec": {
   "display_name": "Python 3",
   "language": "python",
   "name": "python3"
  },
  "language_info": {
   "codemirror_mode": {
    "name": "ipython",
    "version": 3
   },
   "file_extension": ".py",
   "mimetype": "text/x-python",
   "name": "python",
   "nbconvert_exporter": "python",
   "pygments_lexer": "ipython3",
   "version": "3.8.5"
  }
 },
 "nbformat": 4,
 "nbformat_minor": 4
}
